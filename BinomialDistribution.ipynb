{
 "cells": [
  {
   "cell_type": "markdown",
   "metadata": {},
   "source": [
    "# Binomial distribution\n",
    "## $\\mathrm{Bin}(m | M, \\mu) = {}_M C_m \\mu^{m} (1 - \\mu)^{M - m}$"
   ]
  },
  {
   "cell_type": "code",
   "execution_count": 1,
   "metadata": {},
   "outputs": [],
   "source": [
    "using Statistics\n",
    "using Distributions\n",
    "using StatsPlots"
   ]
  },
  {
   "cell_type": "code",
   "execution_count": 2,
   "metadata": {},
   "outputs": [
    {
     "data": {
      "text/plain": [
       "0.5"
      ]
     },
     "execution_count": 2,
     "metadata": {},
     "output_type": "execute_result"
    }
   ],
   "source": [
    "M = 50      # number of trials\n",
    "mu = 0.5    # the probability of an event occurring"
   ]
  },
  {
   "cell_type": "code",
   "execution_count": 3,
   "metadata": {},
   "outputs": [
    {
     "data": {
      "text/plain": [
       "Binomial{Float64}(n=50, p=0.5)"
      ]
     },
     "execution_count": 3,
     "metadata": {},
     "output_type": "execute_result"
    }
   ],
   "source": [
    "m = Binomial(M, mu)"
   ]
  },
  {
   "cell_type": "code",
   "execution_count": 4,
   "metadata": {},
   "outputs": [
    {
     "data": {
      "image/svg+xml": [
       "<?xml version=\"1.0\" encoding=\"utf-8\"?>\n",
       "<svg xmlns=\"http://www.w3.org/2000/svg\" xmlns:xlink=\"http://www.w3.org/1999/xlink\" width=\"600\" height=\"400\" viewBox=\"0 0 2400 1600\">\n",
       "<defs>\n",
       "  <clipPath id=\"clip1800\">\n",
       "    <rect x=\"0\" y=\"0\" width=\"2400\" height=\"1600\"/>\n",
       "  </clipPath>\n",
       "</defs>\n",
       "<polygon clip-path=\"url(#clip1800)\" points=\"\n",
       "0,1600 2400,1600 2400,0 0,0 \n",
       "  \" fill=\"#ffffff\" fill-rule=\"evenodd\" fill-opacity=\"1\"/>\n",
       "<defs>\n",
       "  <clipPath id=\"clip1801\">\n",
       "    <rect x=\"480\" y=\"0\" width=\"1681\" height=\"1600\"/>\n",
       "  </clipPath>\n",
       "</defs>\n",
       "<polygon clip-path=\"url(#clip1800)\" points=\"\n",
       "214.919,1503.47 2321.26,1503.47 2321.26,47.2441 214.919,47.2441 \n",
       "  \" fill=\"#ffffff\" fill-rule=\"evenodd\" fill-opacity=\"1\"/>\n",
       "<defs>\n",
       "  <clipPath id=\"clip1802\">\n",
       "    <rect x=\"214\" y=\"47\" width=\"2107\" height=\"1457\"/>\n",
       "  </clipPath>\n",
       "</defs>\n",
       "<polyline clip-path=\"url(#clip1802)\" style=\"stroke:#000000; stroke-width:2; stroke-opacity:0.1; fill:none\" points=\"\n",
       "  214.919,1503.47 214.919,47.2441 \n",
       "  \"/>\n",
       "<polyline clip-path=\"url(#clip1802)\" style=\"stroke:#000000; stroke-width:2; stroke-opacity:0.1; fill:none\" points=\"\n",
       "  636.187,1503.47 636.187,47.2441 \n",
       "  \"/>\n",
       "<polyline clip-path=\"url(#clip1802)\" style=\"stroke:#000000; stroke-width:2; stroke-opacity:0.1; fill:none\" points=\"\n",
       "  1057.46,1503.47 1057.46,47.2441 \n",
       "  \"/>\n",
       "<polyline clip-path=\"url(#clip1802)\" style=\"stroke:#000000; stroke-width:2; stroke-opacity:0.1; fill:none\" points=\"\n",
       "  1478.72,1503.47 1478.72,47.2441 \n",
       "  \"/>\n",
       "<polyline clip-path=\"url(#clip1802)\" style=\"stroke:#000000; stroke-width:2; stroke-opacity:0.1; fill:none\" points=\"\n",
       "  1899.99,1503.47 1899.99,47.2441 \n",
       "  \"/>\n",
       "<polyline clip-path=\"url(#clip1802)\" style=\"stroke:#000000; stroke-width:2; stroke-opacity:0.1; fill:none\" points=\"\n",
       "  2321.26,1503.47 2321.26,47.2441 \n",
       "  \"/>\n",
       "<polyline clip-path=\"url(#clip1802)\" style=\"stroke:#000000; stroke-width:2; stroke-opacity:0.1; fill:none\" points=\"\n",
       "  214.919,1462.26 2321.26,1462.26 \n",
       "  \"/>\n",
       "<polyline clip-path=\"url(#clip1802)\" style=\"stroke:#000000; stroke-width:2; stroke-opacity:0.1; fill:none\" points=\"\n",
       "  214.919,1156.36 2321.26,1156.36 \n",
       "  \"/>\n",
       "<polyline clip-path=\"url(#clip1802)\" style=\"stroke:#000000; stroke-width:2; stroke-opacity:0.1; fill:none\" points=\"\n",
       "  214.919,850.459 2321.26,850.459 \n",
       "  \"/>\n",
       "<polyline clip-path=\"url(#clip1802)\" style=\"stroke:#000000; stroke-width:2; stroke-opacity:0.1; fill:none\" points=\"\n",
       "  214.919,544.558 2321.26,544.558 \n",
       "  \"/>\n",
       "<polyline clip-path=\"url(#clip1802)\" style=\"stroke:#000000; stroke-width:2; stroke-opacity:0.1; fill:none\" points=\"\n",
       "  214.919,238.658 2321.26,238.658 \n",
       "  \"/>\n",
       "<polyline clip-path=\"url(#clip1800)\" style=\"stroke:#000000; stroke-width:4; stroke-opacity:1; fill:none\" points=\"\n",
       "  214.919,1503.47 2321.26,1503.47 \n",
       "  \"/>\n",
       "<polyline clip-path=\"url(#clip1800)\" style=\"stroke:#000000; stroke-width:4; stroke-opacity:1; fill:none\" points=\"\n",
       "  214.919,1503.47 214.919,47.2441 \n",
       "  \"/>\n",
       "<polyline clip-path=\"url(#clip1800)\" style=\"stroke:#000000; stroke-width:4; stroke-opacity:1; fill:none\" points=\"\n",
       "  214.919,1503.47 214.919,1481.63 \n",
       "  \"/>\n",
       "<polyline clip-path=\"url(#clip1800)\" style=\"stroke:#000000; stroke-width:4; stroke-opacity:1; fill:none\" points=\"\n",
       "  636.187,1503.47 636.187,1481.63 \n",
       "  \"/>\n",
       "<polyline clip-path=\"url(#clip1800)\" style=\"stroke:#000000; stroke-width:4; stroke-opacity:1; fill:none\" points=\"\n",
       "  1057.46,1503.47 1057.46,1481.63 \n",
       "  \"/>\n",
       "<polyline clip-path=\"url(#clip1800)\" style=\"stroke:#000000; stroke-width:4; stroke-opacity:1; fill:none\" points=\"\n",
       "  1478.72,1503.47 1478.72,1481.63 \n",
       "  \"/>\n",
       "<polyline clip-path=\"url(#clip1800)\" style=\"stroke:#000000; stroke-width:4; stroke-opacity:1; fill:none\" points=\"\n",
       "  1899.99,1503.47 1899.99,1481.63 \n",
       "  \"/>\n",
       "<polyline clip-path=\"url(#clip1800)\" style=\"stroke:#000000; stroke-width:4; stroke-opacity:1; fill:none\" points=\"\n",
       "  2321.26,1503.47 2321.26,1481.63 \n",
       "  \"/>\n",
       "<polyline clip-path=\"url(#clip1800)\" style=\"stroke:#000000; stroke-width:4; stroke-opacity:1; fill:none\" points=\"\n",
       "  214.919,1462.26 246.514,1462.26 \n",
       "  \"/>\n",
       "<polyline clip-path=\"url(#clip1800)\" style=\"stroke:#000000; stroke-width:4; stroke-opacity:1; fill:none\" points=\"\n",
       "  214.919,1156.36 246.514,1156.36 \n",
       "  \"/>\n",
       "<polyline clip-path=\"url(#clip1800)\" style=\"stroke:#000000; stroke-width:4; stroke-opacity:1; fill:none\" points=\"\n",
       "  214.919,850.459 246.514,850.459 \n",
       "  \"/>\n",
       "<polyline clip-path=\"url(#clip1800)\" style=\"stroke:#000000; stroke-width:4; stroke-opacity:1; fill:none\" points=\"\n",
       "  214.919,544.558 246.514,544.558 \n",
       "  \"/>\n",
       "<polyline clip-path=\"url(#clip1800)\" style=\"stroke:#000000; stroke-width:4; stroke-opacity:1; fill:none\" points=\"\n",
       "  214.919,238.658 246.514,238.658 \n",
       "  \"/>\n",
       "<g clip-path=\"url(#clip1800)\">\n",
       "<text style=\"fill:#000000; fill-opacity:1; font-family:Arial,Helvetica Neue,Helvetica,sans-serif; font-size:48px; text-anchor:middle;\" transform=\"rotate(0, 214.919, 1557.47)\" x=\"214.919\" y=\"1557.47\">0</text>\n",
       "</g>\n",
       "<g clip-path=\"url(#clip1800)\">\n",
       "<text style=\"fill:#000000; fill-opacity:1; font-family:Arial,Helvetica Neue,Helvetica,sans-serif; font-size:48px; text-anchor:middle;\" transform=\"rotate(0, 636.187, 1557.47)\" x=\"636.187\" y=\"1557.47\">10</text>\n",
       "</g>\n",
       "<g clip-path=\"url(#clip1800)\">\n",
       "<text style=\"fill:#000000; fill-opacity:1; font-family:Arial,Helvetica Neue,Helvetica,sans-serif; font-size:48px; text-anchor:middle;\" transform=\"rotate(0, 1057.46, 1557.47)\" x=\"1057.46\" y=\"1557.47\">20</text>\n",
       "</g>\n",
       "<g clip-path=\"url(#clip1800)\">\n",
       "<text style=\"fill:#000000; fill-opacity:1; font-family:Arial,Helvetica Neue,Helvetica,sans-serif; font-size:48px; text-anchor:middle;\" transform=\"rotate(0, 1478.72, 1557.47)\" x=\"1478.72\" y=\"1557.47\">30</text>\n",
       "</g>\n",
       "<g clip-path=\"url(#clip1800)\">\n",
       "<text style=\"fill:#000000; fill-opacity:1; font-family:Arial,Helvetica Neue,Helvetica,sans-serif; font-size:48px; text-anchor:middle;\" transform=\"rotate(0, 1899.99, 1557.47)\" x=\"1899.99\" y=\"1557.47\">40</text>\n",
       "</g>\n",
       "<g clip-path=\"url(#clip1800)\">\n",
       "<text style=\"fill:#000000; fill-opacity:1; font-family:Arial,Helvetica Neue,Helvetica,sans-serif; font-size:48px; text-anchor:middle;\" transform=\"rotate(0, 2321.26, 1557.47)\" x=\"2321.26\" y=\"1557.47\">50</text>\n",
       "</g>\n",
       "<g clip-path=\"url(#clip1800)\">\n",
       "<text style=\"fill:#000000; fill-opacity:1; font-family:Arial,Helvetica Neue,Helvetica,sans-serif; font-size:48px; text-anchor:end;\" transform=\"rotate(0, 190.919, 1479.76)\" x=\"190.919\" y=\"1479.76\">0.000</text>\n",
       "</g>\n",
       "<g clip-path=\"url(#clip1800)\">\n",
       "<text style=\"fill:#000000; fill-opacity:1; font-family:Arial,Helvetica Neue,Helvetica,sans-serif; font-size:48px; text-anchor:end;\" transform=\"rotate(0, 190.919, 1173.86)\" x=\"190.919\" y=\"1173.86\">0.025</text>\n",
       "</g>\n",
       "<g clip-path=\"url(#clip1800)\">\n",
       "<text style=\"fill:#000000; fill-opacity:1; font-family:Arial,Helvetica Neue,Helvetica,sans-serif; font-size:48px; text-anchor:end;\" transform=\"rotate(0, 190.919, 867.959)\" x=\"190.919\" y=\"867.959\">0.050</text>\n",
       "</g>\n",
       "<g clip-path=\"url(#clip1800)\">\n",
       "<text style=\"fill:#000000; fill-opacity:1; font-family:Arial,Helvetica Neue,Helvetica,sans-serif; font-size:48px; text-anchor:end;\" transform=\"rotate(0, 190.919, 562.058)\" x=\"190.919\" y=\"562.058\">0.075</text>\n",
       "</g>\n",
       "<g clip-path=\"url(#clip1800)\">\n",
       "<text style=\"fill:#000000; fill-opacity:1; font-family:Arial,Helvetica Neue,Helvetica,sans-serif; font-size:48px; text-anchor:end;\" transform=\"rotate(0, 190.919, 256.158)\" x=\"190.919\" y=\"256.158\">0.100</text>\n",
       "</g>\n",
       "<circle clip-path=\"url(#clip1802)\" style=\"fill:#000000; stroke:none; fill-opacity:1\" cx=\"214.919\" cy=\"1462.26\" r=\"18\"/>\n",
       "<circle clip-path=\"url(#clip1802)\" style=\"fill:#009af9; stroke:none; fill-opacity:1\" cx=\"214.919\" cy=\"1462.26\" r=\"14\"/>\n",
       "<circle clip-path=\"url(#clip1802)\" style=\"fill:#000000; stroke:none; fill-opacity:1\" cx=\"257.046\" cy=\"1462.26\" r=\"18\"/>\n",
       "<circle clip-path=\"url(#clip1802)\" style=\"fill:#009af9; stroke:none; fill-opacity:1\" cx=\"257.046\" cy=\"1462.26\" r=\"14\"/>\n",
       "<circle clip-path=\"url(#clip1802)\" style=\"fill:#000000; stroke:none; fill-opacity:1\" cx=\"299.172\" cy=\"1462.26\" r=\"18\"/>\n",
       "<circle clip-path=\"url(#clip1802)\" style=\"fill:#009af9; stroke:none; fill-opacity:1\" cx=\"299.172\" cy=\"1462.26\" r=\"14\"/>\n",
       "<circle clip-path=\"url(#clip1802)\" style=\"fill:#000000; stroke:none; fill-opacity:1\" cx=\"341.299\" cy=\"1462.26\" r=\"18\"/>\n",
       "<circle clip-path=\"url(#clip1802)\" style=\"fill:#009af9; stroke:none; fill-opacity:1\" cx=\"341.299\" cy=\"1462.26\" r=\"14\"/>\n",
       "<circle clip-path=\"url(#clip1802)\" style=\"fill:#000000; stroke:none; fill-opacity:1\" cx=\"383.426\" cy=\"1462.26\" r=\"18\"/>\n",
       "<circle clip-path=\"url(#clip1802)\" style=\"fill:#009af9; stroke:none; fill-opacity:1\" cx=\"383.426\" cy=\"1462.26\" r=\"14\"/>\n",
       "<circle clip-path=\"url(#clip1802)\" style=\"fill:#000000; stroke:none; fill-opacity:1\" cx=\"425.553\" cy=\"1462.26\" r=\"18\"/>\n",
       "<circle clip-path=\"url(#clip1802)\" style=\"fill:#009af9; stroke:none; fill-opacity:1\" cx=\"425.553\" cy=\"1462.26\" r=\"14\"/>\n",
       "<circle clip-path=\"url(#clip1802)\" style=\"fill:#000000; stroke:none; fill-opacity:1\" cx=\"467.68\" cy=\"1462.26\" r=\"18\"/>\n",
       "<circle clip-path=\"url(#clip1802)\" style=\"fill:#009af9; stroke:none; fill-opacity:1\" cx=\"467.68\" cy=\"1462.26\" r=\"14\"/>\n",
       "<circle clip-path=\"url(#clip1802)\" style=\"fill:#000000; stroke:none; fill-opacity:1\" cx=\"509.806\" cy=\"1462.26\" r=\"18\"/>\n",
       "<circle clip-path=\"url(#clip1802)\" style=\"fill:#009af9; stroke:none; fill-opacity:1\" cx=\"509.806\" cy=\"1462.26\" r=\"14\"/>\n",
       "<circle clip-path=\"url(#clip1802)\" style=\"fill:#000000; stroke:none; fill-opacity:1\" cx=\"551.933\" cy=\"1462.25\" r=\"18\"/>\n",
       "<circle clip-path=\"url(#clip1802)\" style=\"fill:#009af9; stroke:none; fill-opacity:1\" cx=\"551.933\" cy=\"1462.25\" r=\"14\"/>\n",
       "<circle clip-path=\"url(#clip1802)\" style=\"fill:#000000; stroke:none; fill-opacity:1\" cx=\"594.06\" cy=\"1462.23\" r=\"18\"/>\n",
       "<circle clip-path=\"url(#clip1802)\" style=\"fill:#009af9; stroke:none; fill-opacity:1\" cx=\"594.06\" cy=\"1462.23\" r=\"14\"/>\n",
       "<circle clip-path=\"url(#clip1802)\" style=\"fill:#000000; stroke:none; fill-opacity:1\" cx=\"636.187\" cy=\"1462.15\" r=\"18\"/>\n",
       "<circle clip-path=\"url(#clip1802)\" style=\"fill:#009af9; stroke:none; fill-opacity:1\" cx=\"636.187\" cy=\"1462.15\" r=\"14\"/>\n",
       "<circle clip-path=\"url(#clip1802)\" style=\"fill:#000000; stroke:none; fill-opacity:1\" cx=\"678.314\" cy=\"1461.85\" r=\"18\"/>\n",
       "<circle clip-path=\"url(#clip1802)\" style=\"fill:#009af9; stroke:none; fill-opacity:1\" cx=\"678.314\" cy=\"1461.85\" r=\"14\"/>\n",
       "<circle clip-path=\"url(#clip1802)\" style=\"fill:#000000; stroke:none; fill-opacity:1\" cx=\"720.441\" cy=\"1460.94\" r=\"18\"/>\n",
       "<circle clip-path=\"url(#clip1802)\" style=\"fill:#009af9; stroke:none; fill-opacity:1\" cx=\"720.441\" cy=\"1460.94\" r=\"14\"/>\n",
       "<circle clip-path=\"url(#clip1802)\" style=\"fill:#000000; stroke:none; fill-opacity:1\" cx=\"762.567\" cy=\"1458.4\" r=\"18\"/>\n",
       "<circle clip-path=\"url(#clip1802)\" style=\"fill:#009af9; stroke:none; fill-opacity:1\" cx=\"762.567\" cy=\"1458.4\" r=\"14\"/>\n",
       "<circle clip-path=\"url(#clip1802)\" style=\"fill:#000000; stroke:none; fill-opacity:1\" cx=\"804.694\" cy=\"1452.07\" r=\"18\"/>\n",
       "<circle clip-path=\"url(#clip1802)\" style=\"fill:#009af9; stroke:none; fill-opacity:1\" cx=\"804.694\" cy=\"1452.07\" r=\"14\"/>\n",
       "<circle clip-path=\"url(#clip1802)\" style=\"fill:#000000; stroke:none; fill-opacity:1\" cx=\"846.821\" cy=\"1437.8\" r=\"18\"/>\n",
       "<circle clip-path=\"url(#clip1802)\" style=\"fill:#009af9; stroke:none; fill-opacity:1\" cx=\"846.821\" cy=\"1437.8\" r=\"14\"/>\n",
       "<circle clip-path=\"url(#clip1802)\" style=\"fill:#000000; stroke:none; fill-opacity:1\" cx=\"888.948\" cy=\"1408.75\" r=\"18\"/>\n",
       "<circle clip-path=\"url(#clip1802)\" style=\"fill:#009af9; stroke:none; fill-opacity:1\" cx=\"888.948\" cy=\"1408.75\" r=\"14\"/>\n",
       "<circle clip-path=\"url(#clip1802)\" style=\"fill:#000000; stroke:none; fill-opacity:1\" cx=\"931.075\" cy=\"1355.24\" r=\"18\"/>\n",
       "<circle clip-path=\"url(#clip1802)\" style=\"fill:#009af9; stroke:none; fill-opacity:1\" cx=\"931.075\" cy=\"1355.24\" r=\"14\"/>\n",
       "<circle clip-path=\"url(#clip1802)\" style=\"fill:#000000; stroke:none; fill-opacity:1\" cx=\"973.202\" cy=\"1266.06\" r=\"18\"/>\n",
       "<circle clip-path=\"url(#clip1802)\" style=\"fill:#009af9; stroke:none; fill-opacity:1\" cx=\"973.202\" cy=\"1266.06\" r=\"14\"/>\n",
       "<circle clip-path=\"url(#clip1802)\" style=\"fill:#000000; stroke:none; fill-opacity:1\" cx=\"1015.33\" cy=\"1131.82\" r=\"18\"/>\n",
       "<circle clip-path=\"url(#clip1802)\" style=\"fill:#009af9; stroke:none; fill-opacity:1\" cx=\"1015.33\" cy=\"1131.82\" r=\"14\"/>\n",
       "<circle clip-path=\"url(#clip1802)\" style=\"fill:#000000; stroke:none; fill-opacity:1\" cx=\"1057.46\" cy=\"950.071\" r=\"18\"/>\n",
       "<circle clip-path=\"url(#clip1802)\" style=\"fill:#009af9; stroke:none; fill-opacity:1\" cx=\"1057.46\" cy=\"950.071\" r=\"14\"/>\n",
       "<circle clip-path=\"url(#clip1802)\" style=\"fill:#000000; stroke:none; fill-opacity:1\" cx=\"1099.58\" cy=\"730.561\" r=\"18\"/>\n",
       "<circle clip-path=\"url(#clip1802)\" style=\"fill:#009af9; stroke:none; fill-opacity:1\" cx=\"1099.58\" cy=\"730.561\" r=\"14\"/>\n",
       "<circle clip-path=\"url(#clip1802)\" style=\"fill:#000000; stroke:none; fill-opacity:1\" cx=\"1141.71\" cy=\"497.747\" r=\"18\"/>\n",
       "<circle clip-path=\"url(#clip1802)\" style=\"fill:#009af9; stroke:none; fill-opacity:1\" cx=\"1141.71\" cy=\"497.747\" r=\"14\"/>\n",
       "<circle clip-path=\"url(#clip1802)\" style=\"fill:#000000; stroke:none; fill-opacity:1\" cx=\"1183.84\" cy=\"288.07\" r=\"18\"/>\n",
       "<circle clip-path=\"url(#clip1802)\" style=\"fill:#009af9; stroke:none; fill-opacity:1\" cx=\"1183.84\" cy=\"288.07\" r=\"14\"/>\n",
       "<circle clip-path=\"url(#clip1802)\" style=\"fill:#000000; stroke:none; fill-opacity:1\" cx=\"1225.96\" cy=\"141.297\" r=\"18\"/>\n",
       "<circle clip-path=\"url(#clip1802)\" style=\"fill:#009af9; stroke:none; fill-opacity:1\" cx=\"1225.96\" cy=\"141.297\" r=\"14\"/>\n",
       "<circle clip-path=\"url(#clip1802)\" style=\"fill:#000000; stroke:none; fill-opacity:1\" cx=\"1268.09\" cy=\"88.4582\" r=\"18\"/>\n",
       "<circle clip-path=\"url(#clip1802)\" style=\"fill:#009af9; stroke:none; fill-opacity:1\" cx=\"1268.09\" cy=\"88.4582\" r=\"14\"/>\n",
       "<circle clip-path=\"url(#clip1802)\" style=\"fill:#000000; stroke:none; fill-opacity:1\" cx=\"1310.22\" cy=\"141.297\" r=\"18\"/>\n",
       "<circle clip-path=\"url(#clip1802)\" style=\"fill:#009af9; stroke:none; fill-opacity:1\" cx=\"1310.22\" cy=\"141.297\" r=\"14\"/>\n",
       "<circle clip-path=\"url(#clip1802)\" style=\"fill:#000000; stroke:none; fill-opacity:1\" cx=\"1352.34\" cy=\"288.07\" r=\"18\"/>\n",
       "<circle clip-path=\"url(#clip1802)\" style=\"fill:#009af9; stroke:none; fill-opacity:1\" cx=\"1352.34\" cy=\"288.07\" r=\"14\"/>\n",
       "<circle clip-path=\"url(#clip1802)\" style=\"fill:#000000; stroke:none; fill-opacity:1\" cx=\"1394.47\" cy=\"497.747\" r=\"18\"/>\n",
       "<circle clip-path=\"url(#clip1802)\" style=\"fill:#009af9; stroke:none; fill-opacity:1\" cx=\"1394.47\" cy=\"497.747\" r=\"14\"/>\n",
       "<circle clip-path=\"url(#clip1802)\" style=\"fill:#000000; stroke:none; fill-opacity:1\" cx=\"1436.6\" cy=\"730.561\" r=\"18\"/>\n",
       "<circle clip-path=\"url(#clip1802)\" style=\"fill:#009af9; stroke:none; fill-opacity:1\" cx=\"1436.6\" cy=\"730.561\" r=\"14\"/>\n",
       "<circle clip-path=\"url(#clip1802)\" style=\"fill:#000000; stroke:none; fill-opacity:1\" cx=\"1478.72\" cy=\"950.071\" r=\"18\"/>\n",
       "<circle clip-path=\"url(#clip1802)\" style=\"fill:#009af9; stroke:none; fill-opacity:1\" cx=\"1478.72\" cy=\"950.071\" r=\"14\"/>\n",
       "<circle clip-path=\"url(#clip1802)\" style=\"fill:#000000; stroke:none; fill-opacity:1\" cx=\"1520.85\" cy=\"1131.82\" r=\"18\"/>\n",
       "<circle clip-path=\"url(#clip1802)\" style=\"fill:#009af9; stroke:none; fill-opacity:1\" cx=\"1520.85\" cy=\"1131.82\" r=\"14\"/>\n",
       "<circle clip-path=\"url(#clip1802)\" style=\"fill:#000000; stroke:none; fill-opacity:1\" cx=\"1562.98\" cy=\"1266.06\" r=\"18\"/>\n",
       "<circle clip-path=\"url(#clip1802)\" style=\"fill:#009af9; stroke:none; fill-opacity:1\" cx=\"1562.98\" cy=\"1266.06\" r=\"14\"/>\n",
       "<circle clip-path=\"url(#clip1802)\" style=\"fill:#000000; stroke:none; fill-opacity:1\" cx=\"1605.1\" cy=\"1355.24\" r=\"18\"/>\n",
       "<circle clip-path=\"url(#clip1802)\" style=\"fill:#009af9; stroke:none; fill-opacity:1\" cx=\"1605.1\" cy=\"1355.24\" r=\"14\"/>\n",
       "<circle clip-path=\"url(#clip1802)\" style=\"fill:#000000; stroke:none; fill-opacity:1\" cx=\"1647.23\" cy=\"1408.75\" r=\"18\"/>\n",
       "<circle clip-path=\"url(#clip1802)\" style=\"fill:#009af9; stroke:none; fill-opacity:1\" cx=\"1647.23\" cy=\"1408.75\" r=\"14\"/>\n",
       "<circle clip-path=\"url(#clip1802)\" style=\"fill:#000000; stroke:none; fill-opacity:1\" cx=\"1689.36\" cy=\"1437.8\" r=\"18\"/>\n",
       "<circle clip-path=\"url(#clip1802)\" style=\"fill:#009af9; stroke:none; fill-opacity:1\" cx=\"1689.36\" cy=\"1437.8\" r=\"14\"/>\n",
       "<circle clip-path=\"url(#clip1802)\" style=\"fill:#000000; stroke:none; fill-opacity:1\" cx=\"1731.48\" cy=\"1452.07\" r=\"18\"/>\n",
       "<circle clip-path=\"url(#clip1802)\" style=\"fill:#009af9; stroke:none; fill-opacity:1\" cx=\"1731.48\" cy=\"1452.07\" r=\"14\"/>\n",
       "<circle clip-path=\"url(#clip1802)\" style=\"fill:#000000; stroke:none; fill-opacity:1\" cx=\"1773.61\" cy=\"1458.4\" r=\"18\"/>\n",
       "<circle clip-path=\"url(#clip1802)\" style=\"fill:#009af9; stroke:none; fill-opacity:1\" cx=\"1773.61\" cy=\"1458.4\" r=\"14\"/>\n",
       "<circle clip-path=\"url(#clip1802)\" style=\"fill:#000000; stroke:none; fill-opacity:1\" cx=\"1815.74\" cy=\"1460.94\" r=\"18\"/>\n",
       "<circle clip-path=\"url(#clip1802)\" style=\"fill:#009af9; stroke:none; fill-opacity:1\" cx=\"1815.74\" cy=\"1460.94\" r=\"14\"/>\n",
       "<circle clip-path=\"url(#clip1802)\" style=\"fill:#000000; stroke:none; fill-opacity:1\" cx=\"1857.86\" cy=\"1461.85\" r=\"18\"/>\n",
       "<circle clip-path=\"url(#clip1802)\" style=\"fill:#009af9; stroke:none; fill-opacity:1\" cx=\"1857.86\" cy=\"1461.85\" r=\"14\"/>\n",
       "<circle clip-path=\"url(#clip1802)\" style=\"fill:#000000; stroke:none; fill-opacity:1\" cx=\"1899.99\" cy=\"1462.15\" r=\"18\"/>\n",
       "<circle clip-path=\"url(#clip1802)\" style=\"fill:#009af9; stroke:none; fill-opacity:1\" cx=\"1899.99\" cy=\"1462.15\" r=\"14\"/>\n",
       "<circle clip-path=\"url(#clip1802)\" style=\"fill:#000000; stroke:none; fill-opacity:1\" cx=\"1942.12\" cy=\"1462.23\" r=\"18\"/>\n",
       "<circle clip-path=\"url(#clip1802)\" style=\"fill:#009af9; stroke:none; fill-opacity:1\" cx=\"1942.12\" cy=\"1462.23\" r=\"14\"/>\n",
       "<circle clip-path=\"url(#clip1802)\" style=\"fill:#000000; stroke:none; fill-opacity:1\" cx=\"1984.25\" cy=\"1462.25\" r=\"18\"/>\n",
       "<circle clip-path=\"url(#clip1802)\" style=\"fill:#009af9; stroke:none; fill-opacity:1\" cx=\"1984.25\" cy=\"1462.25\" r=\"14\"/>\n",
       "<circle clip-path=\"url(#clip1802)\" style=\"fill:#000000; stroke:none; fill-opacity:1\" cx=\"2026.37\" cy=\"1462.26\" r=\"18\"/>\n",
       "<circle clip-path=\"url(#clip1802)\" style=\"fill:#009af9; stroke:none; fill-opacity:1\" cx=\"2026.37\" cy=\"1462.26\" r=\"14\"/>\n",
       "<circle clip-path=\"url(#clip1802)\" style=\"fill:#000000; stroke:none; fill-opacity:1\" cx=\"2068.5\" cy=\"1462.26\" r=\"18\"/>\n",
       "<circle clip-path=\"url(#clip1802)\" style=\"fill:#009af9; stroke:none; fill-opacity:1\" cx=\"2068.5\" cy=\"1462.26\" r=\"14\"/>\n",
       "<circle clip-path=\"url(#clip1802)\" style=\"fill:#000000; stroke:none; fill-opacity:1\" cx=\"2110.63\" cy=\"1462.26\" r=\"18\"/>\n",
       "<circle clip-path=\"url(#clip1802)\" style=\"fill:#009af9; stroke:none; fill-opacity:1\" cx=\"2110.63\" cy=\"1462.26\" r=\"14\"/>\n",
       "<circle clip-path=\"url(#clip1802)\" style=\"fill:#000000; stroke:none; fill-opacity:1\" cx=\"2152.75\" cy=\"1462.26\" r=\"18\"/>\n",
       "<circle clip-path=\"url(#clip1802)\" style=\"fill:#009af9; stroke:none; fill-opacity:1\" cx=\"2152.75\" cy=\"1462.26\" r=\"14\"/>\n",
       "<circle clip-path=\"url(#clip1802)\" style=\"fill:#000000; stroke:none; fill-opacity:1\" cx=\"2194.88\" cy=\"1462.26\" r=\"18\"/>\n",
       "<circle clip-path=\"url(#clip1802)\" style=\"fill:#009af9; stroke:none; fill-opacity:1\" cx=\"2194.88\" cy=\"1462.26\" r=\"14\"/>\n",
       "<circle clip-path=\"url(#clip1802)\" style=\"fill:#000000; stroke:none; fill-opacity:1\" cx=\"2237.01\" cy=\"1462.26\" r=\"18\"/>\n",
       "<circle clip-path=\"url(#clip1802)\" style=\"fill:#009af9; stroke:none; fill-opacity:1\" cx=\"2237.01\" cy=\"1462.26\" r=\"14\"/>\n",
       "<circle clip-path=\"url(#clip1802)\" style=\"fill:#000000; stroke:none; fill-opacity:1\" cx=\"2279.13\" cy=\"1462.26\" r=\"18\"/>\n",
       "<circle clip-path=\"url(#clip1802)\" style=\"fill:#009af9; stroke:none; fill-opacity:1\" cx=\"2279.13\" cy=\"1462.26\" r=\"14\"/>\n",
       "</svg>\n"
      ]
     },
     "execution_count": 4,
     "metadata": {},
     "output_type": "execute_result"
    }
   ],
   "source": [
    "scatter(m, leg=false, xlims = (0,50))"
   ]
  },
  {
   "cell_type": "code",
   "execution_count": 5,
   "metadata": {},
   "outputs": [],
   "source": [
    "savefig(\"plot1.png\")"
   ]
  },
  {
   "cell_type": "code",
   "execution_count": 6,
   "metadata": {},
   "outputs": [
    {
     "name": "stdout",
     "output_type": "stream",
     "text": [
      "mean = 25.0\n"
     ]
    }
   ],
   "source": [
    "println(\"mean = \", M*mu)                # Calculate directly"
   ]
  },
  {
   "cell_type": "code",
   "execution_count": 7,
   "metadata": {},
   "outputs": [
    {
     "name": "stdout",
     "output_type": "stream",
     "text": [
      "mean = 25.0\n"
     ]
    }
   ],
   "source": [
    "println(\"mean = \", Statistics.mean(m))  # Calculate using function"
   ]
  },
  {
   "cell_type": "code",
   "execution_count": 8,
   "metadata": {},
   "outputs": [
    {
     "name": "stdout",
     "output_type": "stream",
     "text": [
      "variance = 12.5\n"
     ]
    }
   ],
   "source": [
    "println(\"variance = \", M*mu*(1-mu))         # Calculate directly"
   ]
  },
  {
   "cell_type": "code",
   "execution_count": 9,
   "metadata": {},
   "outputs": [
    {
     "name": "stdout",
     "output_type": "stream",
     "text": [
      "variance = 12.5\n"
     ]
    }
   ],
   "source": [
    "println(\"variance = \", Statistics.var(m))   # Calculate using function"
   ]
  },
  {
   "cell_type": "code",
   "execution_count": null,
   "metadata": {},
   "outputs": [],
   "source": []
  }
 ],
 "metadata": {
  "@webio": {
   "lastCommId": null,
   "lastKernelId": null
  },
  "kernelspec": {
   "display_name": "Julia 1.1.0",
   "language": "julia",
   "name": "julia-1.1"
  },
  "language_info": {
   "file_extension": ".jl",
   "mimetype": "application/julia",
   "name": "julia",
   "version": "1.1.0"
  }
 },
 "nbformat": 4,
 "nbformat_minor": 2
}
