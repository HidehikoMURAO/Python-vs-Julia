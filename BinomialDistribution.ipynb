{
 "cells": [
  {
   "cell_type": "markdown",
   "metadata": {},
   "source": [
    "# Binomial distribution\n",
    "## $\\mathrm{Bin}(m | M, \\mu) = {}_M C_m \\mu^{m} (1 - \\mu)^{M - m}$"
   ]
  },
  {
   "cell_type": "code",
   "execution_count": 1,
   "metadata": {},
   "outputs": [
    {
     "name": "stderr",
     "output_type": "stream",
     "text": [
      "┌ Info: Precompiling StatsPlots [f3b207a7-027a-5e70-b257-86293d7955fd]\n",
      "└ @ Base loading.jl:1186\n"
     ]
    }
   ],
   "source": [
    "using Statistics\n",
    "using Distributions\n",
    "using StatsPlots"
   ]
  },
  {
   "cell_type": "code",
   "execution_count": 2,
   "metadata": {},
   "outputs": [
    {
     "data": {
      "text/plain": [
       "0.5"
      ]
     },
     "execution_count": 2,
     "metadata": {},
     "output_type": "execute_result"
    }
   ],
   "source": [
    "M = 50      # number of trials\n",
    "mu = 0.5    # the probability of an event occurring"
   ]
  },
  {
   "cell_type": "code",
   "execution_count": 3,
   "metadata": {},
   "outputs": [
    {
     "data": {
      "text/plain": [
       "Binomial{Float64}(n=50, p=0.5)"
      ]
     },
     "execution_count": 3,
     "metadata": {},
     "output_type": "execute_result"
    }
   ],
   "source": [
    "m = Binomial(M, mu)"
   ]
  },
  {
   "cell_type": "code",
   "execution_count": 4,
   "metadata": {},
   "outputs": [
    {
     "data": {
      "image/svg+xml": [
       "<?xml version=\"1.0\" encoding=\"utf-8\"?>\n",
       "<svg xmlns=\"http://www.w3.org/2000/svg\" xmlns:xlink=\"http://www.w3.org/1999/xlink\" width=\"600\" height=\"400\" viewBox=\"0 0 2400 1600\">\n",
       "<defs>\n",
       "  <clipPath id=\"clip3000\">\n",
       "    <rect x=\"0\" y=\"0\" width=\"2400\" height=\"1600\"/>\n",
       "  </clipPath>\n",
       "</defs>\n",
       "<polygon clip-path=\"url(#clip3000)\" points=\"\n",
       "0,1600 2400,1600 2400,0 0,0 \n",
       "  \" fill=\"#ffffff\" fill-rule=\"evenodd\" fill-opacity=\"1\"/>\n",
       "<defs>\n",
       "  <clipPath id=\"clip3001\">\n",
       "    <rect x=\"480\" y=\"0\" width=\"1681\" height=\"1600\"/>\n",
       "  </clipPath>\n",
       "</defs>\n",
       "<polygon clip-path=\"url(#clip3000)\" points=\"\n",
       "207.423,1487.47 2352.76,1487.47 2352.76,47.2441 207.423,47.2441 \n",
       "  \" fill=\"#ffffff\" fill-rule=\"evenodd\" fill-opacity=\"1\"/>\n",
       "<defs>\n",
       "  <clipPath id=\"clip3002\">\n",
       "    <rect x=\"207\" y=\"47\" width=\"2146\" height=\"1441\"/>\n",
       "  </clipPath>\n",
       "</defs>\n",
       "<polyline clip-path=\"url(#clip3002)\" style=\"stroke:#000000; stroke-width:2; stroke-opacity:0.1; fill:none\" points=\"\n",
       "  207.423,1487.47 207.423,47.2441 \n",
       "  \"/>\n",
       "<polyline clip-path=\"url(#clip3002)\" style=\"stroke:#000000; stroke-width:2; stroke-opacity:0.1; fill:none\" points=\"\n",
       "  636.489,1487.47 636.489,47.2441 \n",
       "  \"/>\n",
       "<polyline clip-path=\"url(#clip3002)\" style=\"stroke:#000000; stroke-width:2; stroke-opacity:0.1; fill:none\" points=\"\n",
       "  1065.56,1487.47 1065.56,47.2441 \n",
       "  \"/>\n",
       "<polyline clip-path=\"url(#clip3002)\" style=\"stroke:#000000; stroke-width:2; stroke-opacity:0.1; fill:none\" points=\"\n",
       "  1494.62,1487.47 1494.62,47.2441 \n",
       "  \"/>\n",
       "<polyline clip-path=\"url(#clip3002)\" style=\"stroke:#000000; stroke-width:2; stroke-opacity:0.1; fill:none\" points=\"\n",
       "  1923.69,1487.47 1923.69,47.2441 \n",
       "  \"/>\n",
       "<polyline clip-path=\"url(#clip3002)\" style=\"stroke:#000000; stroke-width:2; stroke-opacity:0.1; fill:none\" points=\"\n",
       "  2352.76,1487.47 2352.76,47.2441 \n",
       "  \"/>\n",
       "<polyline clip-path=\"url(#clip3002)\" style=\"stroke:#000000; stroke-width:2; stroke-opacity:0.1; fill:none\" points=\"\n",
       "  207.423,1446.71 2352.76,1446.71 \n",
       "  \"/>\n",
       "<polyline clip-path=\"url(#clip3002)\" style=\"stroke:#000000; stroke-width:2; stroke-opacity:0.1; fill:none\" points=\"\n",
       "  207.423,1144.17 2352.76,1144.17 \n",
       "  \"/>\n",
       "<polyline clip-path=\"url(#clip3002)\" style=\"stroke:#000000; stroke-width:2; stroke-opacity:0.1; fill:none\" points=\"\n",
       "  207.423,841.634 2352.76,841.634 \n",
       "  \"/>\n",
       "<polyline clip-path=\"url(#clip3002)\" style=\"stroke:#000000; stroke-width:2; stroke-opacity:0.1; fill:none\" points=\"\n",
       "  207.423,539.094 2352.76,539.094 \n",
       "  \"/>\n",
       "<polyline clip-path=\"url(#clip3002)\" style=\"stroke:#000000; stroke-width:2; stroke-opacity:0.1; fill:none\" points=\"\n",
       "  207.423,236.554 2352.76,236.554 \n",
       "  \"/>\n",
       "<polyline clip-path=\"url(#clip3000)\" style=\"stroke:#000000; stroke-width:4; stroke-opacity:1; fill:none\" points=\"\n",
       "  207.423,1487.47 2352.76,1487.47 \n",
       "  \"/>\n",
       "<polyline clip-path=\"url(#clip3000)\" style=\"stroke:#000000; stroke-width:4; stroke-opacity:1; fill:none\" points=\"\n",
       "  207.423,1487.47 207.423,47.2441 \n",
       "  \"/>\n",
       "<polyline clip-path=\"url(#clip3000)\" style=\"stroke:#000000; stroke-width:4; stroke-opacity:1; fill:none\" points=\"\n",
       "  207.423,1487.47 207.423,1465.87 \n",
       "  \"/>\n",
       "<polyline clip-path=\"url(#clip3000)\" style=\"stroke:#000000; stroke-width:4; stroke-opacity:1; fill:none\" points=\"\n",
       "  636.489,1487.47 636.489,1465.87 \n",
       "  \"/>\n",
       "<polyline clip-path=\"url(#clip3000)\" style=\"stroke:#000000; stroke-width:4; stroke-opacity:1; fill:none\" points=\"\n",
       "  1065.56,1487.47 1065.56,1465.87 \n",
       "  \"/>\n",
       "<polyline clip-path=\"url(#clip3000)\" style=\"stroke:#000000; stroke-width:4; stroke-opacity:1; fill:none\" points=\"\n",
       "  1494.62,1487.47 1494.62,1465.87 \n",
       "  \"/>\n",
       "<polyline clip-path=\"url(#clip3000)\" style=\"stroke:#000000; stroke-width:4; stroke-opacity:1; fill:none\" points=\"\n",
       "  1923.69,1487.47 1923.69,1465.87 \n",
       "  \"/>\n",
       "<polyline clip-path=\"url(#clip3000)\" style=\"stroke:#000000; stroke-width:4; stroke-opacity:1; fill:none\" points=\"\n",
       "  2352.76,1487.47 2352.76,1465.87 \n",
       "  \"/>\n",
       "<polyline clip-path=\"url(#clip3000)\" style=\"stroke:#000000; stroke-width:4; stroke-opacity:1; fill:none\" points=\"\n",
       "  207.423,1446.71 239.603,1446.71 \n",
       "  \"/>\n",
       "<polyline clip-path=\"url(#clip3000)\" style=\"stroke:#000000; stroke-width:4; stroke-opacity:1; fill:none\" points=\"\n",
       "  207.423,1144.17 239.603,1144.17 \n",
       "  \"/>\n",
       "<polyline clip-path=\"url(#clip3000)\" style=\"stroke:#000000; stroke-width:4; stroke-opacity:1; fill:none\" points=\"\n",
       "  207.423,841.634 239.603,841.634 \n",
       "  \"/>\n",
       "<polyline clip-path=\"url(#clip3000)\" style=\"stroke:#000000; stroke-width:4; stroke-opacity:1; fill:none\" points=\"\n",
       "  207.423,539.094 239.603,539.094 \n",
       "  \"/>\n",
       "<polyline clip-path=\"url(#clip3000)\" style=\"stroke:#000000; stroke-width:4; stroke-opacity:1; fill:none\" points=\"\n",
       "  207.423,236.554 239.603,236.554 \n",
       "  \"/>\n",
       "<g clip-path=\"url(#clip3000)\">\n",
       "<text style=\"fill:#000000; fill-opacity:1; font-family:Arial,Helvetica Neue,Helvetica,sans-serif; font-size:48px; text-anchor:middle;\" transform=\"rotate(0, 207.423, 1541.47)\" x=\"207.423\" y=\"1541.47\">0</text>\n",
       "</g>\n",
       "<g clip-path=\"url(#clip3000)\">\n",
       "<text style=\"fill:#000000; fill-opacity:1; font-family:Arial,Helvetica Neue,Helvetica,sans-serif; font-size:48px; text-anchor:middle;\" transform=\"rotate(0, 636.489, 1541.47)\" x=\"636.489\" y=\"1541.47\">10</text>\n",
       "</g>\n",
       "<g clip-path=\"url(#clip3000)\">\n",
       "<text style=\"fill:#000000; fill-opacity:1; font-family:Arial,Helvetica Neue,Helvetica,sans-serif; font-size:48px; text-anchor:middle;\" transform=\"rotate(0, 1065.56, 1541.47)\" x=\"1065.56\" y=\"1541.47\">20</text>\n",
       "</g>\n",
       "<g clip-path=\"url(#clip3000)\">\n",
       "<text style=\"fill:#000000; fill-opacity:1; font-family:Arial,Helvetica Neue,Helvetica,sans-serif; font-size:48px; text-anchor:middle;\" transform=\"rotate(0, 1494.62, 1541.47)\" x=\"1494.62\" y=\"1541.47\">30</text>\n",
       "</g>\n",
       "<g clip-path=\"url(#clip3000)\">\n",
       "<text style=\"fill:#000000; fill-opacity:1; font-family:Arial,Helvetica Neue,Helvetica,sans-serif; font-size:48px; text-anchor:middle;\" transform=\"rotate(0, 1923.69, 1541.47)\" x=\"1923.69\" y=\"1541.47\">40</text>\n",
       "</g>\n",
       "<g clip-path=\"url(#clip3000)\">\n",
       "<text style=\"fill:#000000; fill-opacity:1; font-family:Arial,Helvetica Neue,Helvetica,sans-serif; font-size:48px; text-anchor:middle;\" transform=\"rotate(0, 2352.76, 1541.47)\" x=\"2352.76\" y=\"1541.47\">50</text>\n",
       "</g>\n",
       "<g clip-path=\"url(#clip3000)\">\n",
       "<text style=\"fill:#000000; fill-opacity:1; font-family:Arial,Helvetica Neue,Helvetica,sans-serif; font-size:48px; text-anchor:end;\" transform=\"rotate(0, 183.423, 1464.21)\" x=\"183.423\" y=\"1464.21\">0.000</text>\n",
       "</g>\n",
       "<g clip-path=\"url(#clip3000)\">\n",
       "<text style=\"fill:#000000; fill-opacity:1; font-family:Arial,Helvetica Neue,Helvetica,sans-serif; font-size:48px; text-anchor:end;\" transform=\"rotate(0, 183.423, 1161.67)\" x=\"183.423\" y=\"1161.67\">0.025</text>\n",
       "</g>\n",
       "<g clip-path=\"url(#clip3000)\">\n",
       "<text style=\"fill:#000000; fill-opacity:1; font-family:Arial,Helvetica Neue,Helvetica,sans-serif; font-size:48px; text-anchor:end;\" transform=\"rotate(0, 183.423, 859.134)\" x=\"183.423\" y=\"859.134\">0.050</text>\n",
       "</g>\n",
       "<g clip-path=\"url(#clip3000)\">\n",
       "<text style=\"fill:#000000; fill-opacity:1; font-family:Arial,Helvetica Neue,Helvetica,sans-serif; font-size:48px; text-anchor:end;\" transform=\"rotate(0, 183.423, 556.594)\" x=\"183.423\" y=\"556.594\">0.075</text>\n",
       "</g>\n",
       "<g clip-path=\"url(#clip3000)\">\n",
       "<text style=\"fill:#000000; fill-opacity:1; font-family:Arial,Helvetica Neue,Helvetica,sans-serif; font-size:48px; text-anchor:end;\" transform=\"rotate(0, 183.423, 254.054)\" x=\"183.423\" y=\"254.054\">0.100</text>\n",
       "</g>\n",
       "<circle clip-path=\"url(#clip3002)\" style=\"fill:#000000; stroke:none; fill-opacity:1\" cx=\"207.423\" cy=\"1446.71\" r=\"18\"/>\n",
       "<circle clip-path=\"url(#clip3002)\" style=\"fill:#009af9; stroke:none; fill-opacity:1\" cx=\"207.423\" cy=\"1446.71\" r=\"14\"/>\n",
       "<circle clip-path=\"url(#clip3002)\" style=\"fill:#000000; stroke:none; fill-opacity:1\" cx=\"250.329\" cy=\"1446.71\" r=\"18\"/>\n",
       "<circle clip-path=\"url(#clip3002)\" style=\"fill:#009af9; stroke:none; fill-opacity:1\" cx=\"250.329\" cy=\"1446.71\" r=\"14\"/>\n",
       "<circle clip-path=\"url(#clip3002)\" style=\"fill:#000000; stroke:none; fill-opacity:1\" cx=\"293.236\" cy=\"1446.71\" r=\"18\"/>\n",
       "<circle clip-path=\"url(#clip3002)\" style=\"fill:#009af9; stroke:none; fill-opacity:1\" cx=\"293.236\" cy=\"1446.71\" r=\"14\"/>\n",
       "<circle clip-path=\"url(#clip3002)\" style=\"fill:#000000; stroke:none; fill-opacity:1\" cx=\"336.143\" cy=\"1446.71\" r=\"18\"/>\n",
       "<circle clip-path=\"url(#clip3002)\" style=\"fill:#009af9; stroke:none; fill-opacity:1\" cx=\"336.143\" cy=\"1446.71\" r=\"14\"/>\n",
       "<circle clip-path=\"url(#clip3002)\" style=\"fill:#000000; stroke:none; fill-opacity:1\" cx=\"379.049\" cy=\"1446.71\" r=\"18\"/>\n",
       "<circle clip-path=\"url(#clip3002)\" style=\"fill:#009af9; stroke:none; fill-opacity:1\" cx=\"379.049\" cy=\"1446.71\" r=\"14\"/>\n",
       "<circle clip-path=\"url(#clip3002)\" style=\"fill:#000000; stroke:none; fill-opacity:1\" cx=\"421.956\" cy=\"1446.71\" r=\"18\"/>\n",
       "<circle clip-path=\"url(#clip3002)\" style=\"fill:#009af9; stroke:none; fill-opacity:1\" cx=\"421.956\" cy=\"1446.71\" r=\"14\"/>\n",
       "<circle clip-path=\"url(#clip3002)\" style=\"fill:#000000; stroke:none; fill-opacity:1\" cx=\"464.863\" cy=\"1446.71\" r=\"18\"/>\n",
       "<circle clip-path=\"url(#clip3002)\" style=\"fill:#009af9; stroke:none; fill-opacity:1\" cx=\"464.863\" cy=\"1446.71\" r=\"14\"/>\n",
       "<circle clip-path=\"url(#clip3002)\" style=\"fill:#000000; stroke:none; fill-opacity:1\" cx=\"507.769\" cy=\"1446.71\" r=\"18\"/>\n",
       "<circle clip-path=\"url(#clip3002)\" style=\"fill:#009af9; stroke:none; fill-opacity:1\" cx=\"507.769\" cy=\"1446.71\" r=\"14\"/>\n",
       "<circle clip-path=\"url(#clip3002)\" style=\"fill:#000000; stroke:none; fill-opacity:1\" cx=\"550.676\" cy=\"1446.71\" r=\"18\"/>\n",
       "<circle clip-path=\"url(#clip3002)\" style=\"fill:#009af9; stroke:none; fill-opacity:1\" cx=\"550.676\" cy=\"1446.71\" r=\"14\"/>\n",
       "<circle clip-path=\"url(#clip3002)\" style=\"fill:#000000; stroke:none; fill-opacity:1\" cx=\"593.583\" cy=\"1446.69\" r=\"18\"/>\n",
       "<circle clip-path=\"url(#clip3002)\" style=\"fill:#009af9; stroke:none; fill-opacity:1\" cx=\"593.583\" cy=\"1446.69\" r=\"14\"/>\n",
       "<circle clip-path=\"url(#clip3002)\" style=\"fill:#000000; stroke:none; fill-opacity:1\" cx=\"636.489\" cy=\"1446.6\" r=\"18\"/>\n",
       "<circle clip-path=\"url(#clip3002)\" style=\"fill:#009af9; stroke:none; fill-opacity:1\" cx=\"636.489\" cy=\"1446.6\" r=\"14\"/>\n",
       "<circle clip-path=\"url(#clip3002)\" style=\"fill:#000000; stroke:none; fill-opacity:1\" cx=\"679.396\" cy=\"1446.31\" r=\"18\"/>\n",
       "<circle clip-path=\"url(#clip3002)\" style=\"fill:#009af9; stroke:none; fill-opacity:1\" cx=\"679.396\" cy=\"1446.31\" r=\"14\"/>\n",
       "<circle clip-path=\"url(#clip3002)\" style=\"fill:#000000; stroke:none; fill-opacity:1\" cx=\"722.303\" cy=\"1445.41\" r=\"18\"/>\n",
       "<circle clip-path=\"url(#clip3002)\" style=\"fill:#009af9; stroke:none; fill-opacity:1\" cx=\"722.303\" cy=\"1445.41\" r=\"14\"/>\n",
       "<circle clip-path=\"url(#clip3002)\" style=\"fill:#000000; stroke:none; fill-opacity:1\" cx=\"765.209\" cy=\"1442.9\" r=\"18\"/>\n",
       "<circle clip-path=\"url(#clip3002)\" style=\"fill:#009af9; stroke:none; fill-opacity:1\" cx=\"765.209\" cy=\"1442.9\" r=\"14\"/>\n",
       "<circle clip-path=\"url(#clip3002)\" style=\"fill:#000000; stroke:none; fill-opacity:1\" cx=\"808.116\" cy=\"1436.63\" r=\"18\"/>\n",
       "<circle clip-path=\"url(#clip3002)\" style=\"fill:#009af9; stroke:none; fill-opacity:1\" cx=\"808.116\" cy=\"1436.63\" r=\"14\"/>\n",
       "<circle clip-path=\"url(#clip3002)\" style=\"fill:#000000; stroke:none; fill-opacity:1\" cx=\"851.023\" cy=\"1422.52\" r=\"18\"/>\n",
       "<circle clip-path=\"url(#clip3002)\" style=\"fill:#009af9; stroke:none; fill-opacity:1\" cx=\"851.023\" cy=\"1422.52\" r=\"14\"/>\n",
       "<circle clip-path=\"url(#clip3002)\" style=\"fill:#000000; stroke:none; fill-opacity:1\" cx=\"893.929\" cy=\"1393.79\" r=\"18\"/>\n",
       "<circle clip-path=\"url(#clip3002)\" style=\"fill:#009af9; stroke:none; fill-opacity:1\" cx=\"893.929\" cy=\"1393.79\" r=\"14\"/>\n",
       "<circle clip-path=\"url(#clip3002)\" style=\"fill:#000000; stroke:none; fill-opacity:1\" cx=\"936.836\" cy=\"1340.87\" r=\"18\"/>\n",
       "<circle clip-path=\"url(#clip3002)\" style=\"fill:#009af9; stroke:none; fill-opacity:1\" cx=\"936.836\" cy=\"1340.87\" r=\"14\"/>\n",
       "<circle clip-path=\"url(#clip3002)\" style=\"fill:#000000; stroke:none; fill-opacity:1\" cx=\"979.743\" cy=\"1252.67\" r=\"18\"/>\n",
       "<circle clip-path=\"url(#clip3002)\" style=\"fill:#009af9; stroke:none; fill-opacity:1\" cx=\"979.743\" cy=\"1252.67\" r=\"14\"/>\n",
       "<circle clip-path=\"url(#clip3002)\" style=\"fill:#000000; stroke:none; fill-opacity:1\" cx=\"1022.65\" cy=\"1119.9\" r=\"18\"/>\n",
       "<circle clip-path=\"url(#clip3002)\" style=\"fill:#009af9; stroke:none; fill-opacity:1\" cx=\"1022.65\" cy=\"1119.9\" r=\"14\"/>\n",
       "<circle clip-path=\"url(#clip3002)\" style=\"fill:#000000; stroke:none; fill-opacity:1\" cx=\"1065.56\" cy=\"940.151\" r=\"18\"/>\n",
       "<circle clip-path=\"url(#clip3002)\" style=\"fill:#009af9; stroke:none; fill-opacity:1\" cx=\"1065.56\" cy=\"940.151\" r=\"14\"/>\n",
       "<circle clip-path=\"url(#clip3002)\" style=\"fill:#000000; stroke:none; fill-opacity:1\" cx=\"1108.46\" cy=\"723.053\" r=\"18\"/>\n",
       "<circle clip-path=\"url(#clip3002)\" style=\"fill:#009af9; stroke:none; fill-opacity:1\" cx=\"1108.46\" cy=\"723.053\" r=\"14\"/>\n",
       "<circle clip-path=\"url(#clip3002)\" style=\"fill:#000000; stroke:none; fill-opacity:1\" cx=\"1151.37\" cy=\"492.798\" r=\"18\"/>\n",
       "<circle clip-path=\"url(#clip3002)\" style=\"fill:#009af9; stroke:none; fill-opacity:1\" cx=\"1151.37\" cy=\"492.798\" r=\"14\"/>\n",
       "<circle clip-path=\"url(#clip3002)\" style=\"fill:#000000; stroke:none; fill-opacity:1\" cx=\"1194.28\" cy=\"285.424\" r=\"18\"/>\n",
       "<circle clip-path=\"url(#clip3002)\" style=\"fill:#009af9; stroke:none; fill-opacity:1\" cx=\"1194.28\" cy=\"285.424\" r=\"14\"/>\n",
       "<circle clip-path=\"url(#clip3002)\" style=\"fill:#000000; stroke:none; fill-opacity:1\" cx=\"1237.18\" cy=\"140.263\" r=\"18\"/>\n",
       "<circle clip-path=\"url(#clip3002)\" style=\"fill:#009af9; stroke:none; fill-opacity:1\" cx=\"1237.18\" cy=\"140.263\" r=\"14\"/>\n",
       "<circle clip-path=\"url(#clip3002)\" style=\"fill:#000000; stroke:none; fill-opacity:1\" cx=\"1280.09\" cy=\"88.0053\" r=\"18\"/>\n",
       "<circle clip-path=\"url(#clip3002)\" style=\"fill:#009af9; stroke:none; fill-opacity:1\" cx=\"1280.09\" cy=\"88.0053\" r=\"14\"/>\n",
       "<circle clip-path=\"url(#clip3002)\" style=\"fill:#000000; stroke:none; fill-opacity:1\" cx=\"1323\" cy=\"140.263\" r=\"18\"/>\n",
       "<circle clip-path=\"url(#clip3002)\" style=\"fill:#009af9; stroke:none; fill-opacity:1\" cx=\"1323\" cy=\"140.263\" r=\"14\"/>\n",
       "<circle clip-path=\"url(#clip3002)\" style=\"fill:#000000; stroke:none; fill-opacity:1\" cx=\"1365.9\" cy=\"285.424\" r=\"18\"/>\n",
       "<circle clip-path=\"url(#clip3002)\" style=\"fill:#009af9; stroke:none; fill-opacity:1\" cx=\"1365.9\" cy=\"285.424\" r=\"14\"/>\n",
       "<circle clip-path=\"url(#clip3002)\" style=\"fill:#000000; stroke:none; fill-opacity:1\" cx=\"1408.81\" cy=\"492.798\" r=\"18\"/>\n",
       "<circle clip-path=\"url(#clip3002)\" style=\"fill:#009af9; stroke:none; fill-opacity:1\" cx=\"1408.81\" cy=\"492.798\" r=\"14\"/>\n",
       "<circle clip-path=\"url(#clip3002)\" style=\"fill:#000000; stroke:none; fill-opacity:1\" cx=\"1451.72\" cy=\"723.053\" r=\"18\"/>\n",
       "<circle clip-path=\"url(#clip3002)\" style=\"fill:#009af9; stroke:none; fill-opacity:1\" cx=\"1451.72\" cy=\"723.053\" r=\"14\"/>\n",
       "<circle clip-path=\"url(#clip3002)\" style=\"fill:#000000; stroke:none; fill-opacity:1\" cx=\"1494.62\" cy=\"940.151\" r=\"18\"/>\n",
       "<circle clip-path=\"url(#clip3002)\" style=\"fill:#009af9; stroke:none; fill-opacity:1\" cx=\"1494.62\" cy=\"940.151\" r=\"14\"/>\n",
       "<circle clip-path=\"url(#clip3002)\" style=\"fill:#000000; stroke:none; fill-opacity:1\" cx=\"1537.53\" cy=\"1119.9\" r=\"18\"/>\n",
       "<circle clip-path=\"url(#clip3002)\" style=\"fill:#009af9; stroke:none; fill-opacity:1\" cx=\"1537.53\" cy=\"1119.9\" r=\"14\"/>\n",
       "<circle clip-path=\"url(#clip3002)\" style=\"fill:#000000; stroke:none; fill-opacity:1\" cx=\"1580.44\" cy=\"1252.67\" r=\"18\"/>\n",
       "<circle clip-path=\"url(#clip3002)\" style=\"fill:#009af9; stroke:none; fill-opacity:1\" cx=\"1580.44\" cy=\"1252.67\" r=\"14\"/>\n",
       "<circle clip-path=\"url(#clip3002)\" style=\"fill:#000000; stroke:none; fill-opacity:1\" cx=\"1623.34\" cy=\"1340.87\" r=\"18\"/>\n",
       "<circle clip-path=\"url(#clip3002)\" style=\"fill:#009af9; stroke:none; fill-opacity:1\" cx=\"1623.34\" cy=\"1340.87\" r=\"14\"/>\n",
       "<circle clip-path=\"url(#clip3002)\" style=\"fill:#000000; stroke:none; fill-opacity:1\" cx=\"1666.25\" cy=\"1393.79\" r=\"18\"/>\n",
       "<circle clip-path=\"url(#clip3002)\" style=\"fill:#009af9; stroke:none; fill-opacity:1\" cx=\"1666.25\" cy=\"1393.79\" r=\"14\"/>\n",
       "<circle clip-path=\"url(#clip3002)\" style=\"fill:#000000; stroke:none; fill-opacity:1\" cx=\"1709.16\" cy=\"1422.52\" r=\"18\"/>\n",
       "<circle clip-path=\"url(#clip3002)\" style=\"fill:#009af9; stroke:none; fill-opacity:1\" cx=\"1709.16\" cy=\"1422.52\" r=\"14\"/>\n",
       "<circle clip-path=\"url(#clip3002)\" style=\"fill:#000000; stroke:none; fill-opacity:1\" cx=\"1752.06\" cy=\"1436.63\" r=\"18\"/>\n",
       "<circle clip-path=\"url(#clip3002)\" style=\"fill:#009af9; stroke:none; fill-opacity:1\" cx=\"1752.06\" cy=\"1436.63\" r=\"14\"/>\n",
       "<circle clip-path=\"url(#clip3002)\" style=\"fill:#000000; stroke:none; fill-opacity:1\" cx=\"1794.97\" cy=\"1442.9\" r=\"18\"/>\n",
       "<circle clip-path=\"url(#clip3002)\" style=\"fill:#009af9; stroke:none; fill-opacity:1\" cx=\"1794.97\" cy=\"1442.9\" r=\"14\"/>\n",
       "<circle clip-path=\"url(#clip3002)\" style=\"fill:#000000; stroke:none; fill-opacity:1\" cx=\"1837.88\" cy=\"1445.41\" r=\"18\"/>\n",
       "<circle clip-path=\"url(#clip3002)\" style=\"fill:#009af9; stroke:none; fill-opacity:1\" cx=\"1837.88\" cy=\"1445.41\" r=\"14\"/>\n",
       "<circle clip-path=\"url(#clip3002)\" style=\"fill:#000000; stroke:none; fill-opacity:1\" cx=\"1880.78\" cy=\"1446.31\" r=\"18\"/>\n",
       "<circle clip-path=\"url(#clip3002)\" style=\"fill:#009af9; stroke:none; fill-opacity:1\" cx=\"1880.78\" cy=\"1446.31\" r=\"14\"/>\n",
       "<circle clip-path=\"url(#clip3002)\" style=\"fill:#000000; stroke:none; fill-opacity:1\" cx=\"1923.69\" cy=\"1446.6\" r=\"18\"/>\n",
       "<circle clip-path=\"url(#clip3002)\" style=\"fill:#009af9; stroke:none; fill-opacity:1\" cx=\"1923.69\" cy=\"1446.6\" r=\"14\"/>\n",
       "<circle clip-path=\"url(#clip3002)\" style=\"fill:#000000; stroke:none; fill-opacity:1\" cx=\"1966.6\" cy=\"1446.69\" r=\"18\"/>\n",
       "<circle clip-path=\"url(#clip3002)\" style=\"fill:#009af9; stroke:none; fill-opacity:1\" cx=\"1966.6\" cy=\"1446.69\" r=\"14\"/>\n",
       "<circle clip-path=\"url(#clip3002)\" style=\"fill:#000000; stroke:none; fill-opacity:1\" cx=\"2009.5\" cy=\"1446.71\" r=\"18\"/>\n",
       "<circle clip-path=\"url(#clip3002)\" style=\"fill:#009af9; stroke:none; fill-opacity:1\" cx=\"2009.5\" cy=\"1446.71\" r=\"14\"/>\n",
       "<circle clip-path=\"url(#clip3002)\" style=\"fill:#000000; stroke:none; fill-opacity:1\" cx=\"2052.41\" cy=\"1446.71\" r=\"18\"/>\n",
       "<circle clip-path=\"url(#clip3002)\" style=\"fill:#009af9; stroke:none; fill-opacity:1\" cx=\"2052.41\" cy=\"1446.71\" r=\"14\"/>\n",
       "<circle clip-path=\"url(#clip3002)\" style=\"fill:#000000; stroke:none; fill-opacity:1\" cx=\"2095.32\" cy=\"1446.71\" r=\"18\"/>\n",
       "<circle clip-path=\"url(#clip3002)\" style=\"fill:#009af9; stroke:none; fill-opacity:1\" cx=\"2095.32\" cy=\"1446.71\" r=\"14\"/>\n",
       "<circle clip-path=\"url(#clip3002)\" style=\"fill:#000000; stroke:none; fill-opacity:1\" cx=\"2138.22\" cy=\"1446.71\" r=\"18\"/>\n",
       "<circle clip-path=\"url(#clip3002)\" style=\"fill:#009af9; stroke:none; fill-opacity:1\" cx=\"2138.22\" cy=\"1446.71\" r=\"14\"/>\n",
       "<circle clip-path=\"url(#clip3002)\" style=\"fill:#000000; stroke:none; fill-opacity:1\" cx=\"2181.13\" cy=\"1446.71\" r=\"18\"/>\n",
       "<circle clip-path=\"url(#clip3002)\" style=\"fill:#009af9; stroke:none; fill-opacity:1\" cx=\"2181.13\" cy=\"1446.71\" r=\"14\"/>\n",
       "<circle clip-path=\"url(#clip3002)\" style=\"fill:#000000; stroke:none; fill-opacity:1\" cx=\"2224.04\" cy=\"1446.71\" r=\"18\"/>\n",
       "<circle clip-path=\"url(#clip3002)\" style=\"fill:#009af9; stroke:none; fill-opacity:1\" cx=\"2224.04\" cy=\"1446.71\" r=\"14\"/>\n",
       "<circle clip-path=\"url(#clip3002)\" style=\"fill:#000000; stroke:none; fill-opacity:1\" cx=\"2266.94\" cy=\"1446.71\" r=\"18\"/>\n",
       "<circle clip-path=\"url(#clip3002)\" style=\"fill:#009af9; stroke:none; fill-opacity:1\" cx=\"2266.94\" cy=\"1446.71\" r=\"14\"/>\n",
       "<circle clip-path=\"url(#clip3002)\" style=\"fill:#000000; stroke:none; fill-opacity:1\" cx=\"2309.85\" cy=\"1446.71\" r=\"18\"/>\n",
       "<circle clip-path=\"url(#clip3002)\" style=\"fill:#009af9; stroke:none; fill-opacity:1\" cx=\"2309.85\" cy=\"1446.71\" r=\"14\"/>\n",
       "<circle clip-path=\"url(#clip3002)\" style=\"fill:#000000; stroke:none; fill-opacity:1\" cx=\"2352.76\" cy=\"1446.71\" r=\"18\"/>\n",
       "<circle clip-path=\"url(#clip3002)\" style=\"fill:#009af9; stroke:none; fill-opacity:1\" cx=\"2352.76\" cy=\"1446.71\" r=\"14\"/>\n",
       "</svg>\n"
      ]
     },
     "execution_count": 4,
     "metadata": {},
     "output_type": "execute_result"
    }
   ],
   "source": [
    "scatter(m, leg=false, xlims = (0,50))"
   ]
  },
  {
   "cell_type": "code",
   "execution_count": 5,
   "metadata": {},
   "outputs": [],
   "source": [
    "savefig(\"plot1.png\")"
   ]
  },
  {
   "cell_type": "code",
   "execution_count": 6,
   "metadata": {},
   "outputs": [
    {
     "name": "stdout",
     "output_type": "stream",
     "text": [
      "mean = 25.0\n"
     ]
    }
   ],
   "source": [
    "println(\"mean = \", M*mu)                # Calculate directly"
   ]
  },
  {
   "cell_type": "code",
   "execution_count": 7,
   "metadata": {},
   "outputs": [
    {
     "name": "stdout",
     "output_type": "stream",
     "text": [
      "mean = 25.0\n"
     ]
    }
   ],
   "source": [
    "println(\"mean = \", Statistics.mean(m))  # Calculate using function"
   ]
  },
  {
   "cell_type": "code",
   "execution_count": 8,
   "metadata": {},
   "outputs": [
    {
     "name": "stdout",
     "output_type": "stream",
     "text": [
      "variance = 12.5\n"
     ]
    }
   ],
   "source": [
    "println(\"variance = \", M*mu*(1-mu))         # Calculate directly"
   ]
  },
  {
   "cell_type": "code",
   "execution_count": 9,
   "metadata": {},
   "outputs": [
    {
     "name": "stdout",
     "output_type": "stream",
     "text": [
      "variance = 12.5\n"
     ]
    }
   ],
   "source": [
    "println(\"variance = \", Statistics.var(m))   # Calculate using function"
   ]
  },
  {
   "cell_type": "code",
   "execution_count": null,
   "metadata": {},
   "outputs": [],
   "source": []
  }
 ],
 "metadata": {
  "@webio": {
   "lastCommId": null,
   "lastKernelId": null
  },
  "kernelspec": {
   "display_name": "Julia 1.1.1",
   "language": "julia",
   "name": "julia-1.1"
  },
  "language_info": {
   "file_extension": ".jl",
   "mimetype": "application/julia",
   "name": "julia",
   "version": "1.1.1"
  }
 },
 "nbformat": 4,
 "nbformat_minor": 2
}
