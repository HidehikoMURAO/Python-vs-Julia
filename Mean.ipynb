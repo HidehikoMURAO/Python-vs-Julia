{
 "cells": [
  {
   "cell_type": "markdown",
   "metadata": {},
   "source": [
    "# Arithmetic Mean\n",
    "## $ \\mu = \\frac{1}{n} \\sum\\limits_{i=1}^n x_i $"
   ]
  },
  {
   "cell_type": "markdown",
   "metadata": {},
   "source": [
    "Find the average of the sum of integers from 1 to 10.\n",
    "\n",
    "The summation is obtained using the `sum()` function."
   ]
  },
  {
   "cell_type": "code",
   "execution_count": 1,
   "metadata": {},
   "outputs": [
    {
     "name": "stdout",
     "output_type": "stream",
     "text": [
      "Arthmetic mean is 5.5\n"
     ]
    },
    {
     "ename": "UndefVarError",
     "evalue": "UndefVarError: mean not defined",
     "output_type": "error",
     "traceback": [
      "UndefVarError: mean not defined",
      "",
      "Stacktrace:",
      " [1] top-level scope at In[1]:8"
     ]
    }
   ],
   "source": [
    "x1 = [1.0, 2.0, 3.0, 4.0, 5.0, 6.0, 7.0, 8.0, 9.0, 10.0]\n",
    "\n",
    "n = length(x1)\n",
    "\n",
    "mu_a = sum(x1) / n\n",
    "\n",
    "println(\"Arthmetic mean is \", mu_a)\n",
    "println(\"Arthmetic mean is \", mean(x))"
   ]
  },
  {
   "cell_type": "markdown",
   "metadata": {},
   "source": [
    "# Geometric mean\n",
    "## $ ( \\prod\\limits_{i=1}^{n} x_i ) ^ \\frac {1} {n} $"
   ]
  },
  {
   "cell_type": "markdown",
   "metadata": {},
   "source": [
    "Find the geometric mean of 1 to 10.\n",
    "\n",
    "The total power is obtained using the `prod()` function."
   ]
  },
  {
   "cell_type": "code",
   "execution_count": 2,
   "metadata": {},
   "outputs": [
    {
     "name": "stdout",
     "output_type": "stream",
     "text": [
      "Geometric mean is 2.605171084697352\n"
     ]
    }
   ],
   "source": [
    "x2 = [1.0, 2.0, 3.0, 4.0, 5.0]\n",
    "\n",
    "n = length(x2)\n",
    "\n",
    "mu_g = prod(x2) ^ (1 / n)\n",
    "\n",
    "println(\"Geometric mean is \", mu_g)"
   ]
  },
  {
   "cell_type": "markdown",
   "metadata": {},
   "source": [
    "# log-average ($\\neq$ logarithmic mean)\n",
    "## $ \\exp \\left( \\cfrac{1}{n} \\sum_{i=1}^n \\ln {x_i} \\right)$"
   ]
  },
  {
   "cell_type": "markdown",
   "metadata": {},
   "source": [
    "`ln`は自然対数で，`e`を底とする対数．\n",
    "\n",
    "`exp`は`e`を底とする指数関数．\n",
    "\n",
    "`log`と逆の意味になるので、`log(x)`を`exp`すると元の値に戻し，`exp(x)`を`log`しても元に戻る．\n",
    "\n",
    "`ln` is the natural logarithm, base` e`.\n",
    "\n",
    "`exp` is an exponential function based on` e`.\n",
    "\n",
    "`exp` is the opposite of` log`.\n",
    "`exp`` `log (x)` returns the original value.\n",
    "`log`` exp (x) `restores the original."
   ]
  },
  {
   "cell_type": "code",
   "execution_count": 3,
   "metadata": {},
   "outputs": [
    {
     "data": {
      "text/plain": [
       "3.141592653589793"
      ]
     },
     "execution_count": 3,
     "metadata": {},
     "output_type": "execute_result"
    }
   ],
   "source": [
    "exp(log(pi))"
   ]
  },
  {
   "cell_type": "code",
   "execution_count": 4,
   "metadata": {},
   "outputs": [
    {
     "data": {
      "text/plain": [
       "3.141592653589793"
      ]
     },
     "execution_count": 4,
     "metadata": {},
     "output_type": "execute_result"
    }
   ],
   "source": [
    "log(exp(pi))"
   ]
  },
  {
   "cell_type": "code",
   "execution_count": 5,
   "metadata": {},
   "outputs": [
    {
     "name": "stdout",
     "output_type": "stream",
     "text": [
      "Geometric mean is 2.605171084697352\n"
     ]
    }
   ],
   "source": [
    "x3 = [1.0, 2.0, 3.0, 4.0, 5.0]\n",
    "x4 = map(a -> log(a), x3)\n",
    "\n",
    "n = length(x3)\n",
    "\n",
    "mu_g_ln = exp((1 / n) * sum(x4))\n",
    "\n",
    "println(\"Geometric mean is \", mu_g_ln)"
   ]
  },
  {
   "cell_type": "code",
   "execution_count": null,
   "metadata": {},
   "outputs": [],
   "source": []
  }
 ],
 "metadata": {
  "@webio": {
   "lastCommId": null,
   "lastKernelId": null
  },
  "kernelspec": {
   "display_name": "Julia 1.1.0",
   "language": "julia",
   "name": "julia-1.1"
  },
  "language_info": {
   "file_extension": ".jl",
   "mimetype": "application/julia",
   "name": "julia",
   "version": "1.1.0"
  }
 },
 "nbformat": 4,
 "nbformat_minor": 2
}
