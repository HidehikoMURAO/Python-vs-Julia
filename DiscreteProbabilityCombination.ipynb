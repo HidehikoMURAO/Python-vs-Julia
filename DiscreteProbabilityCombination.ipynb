{
 "cells": [
  {
   "cell_type": "markdown",
   "metadata": {},
   "source": [
    "# 階乗（factorical）\n",
    "$ 3! $"
   ]
  },
  {
   "cell_type": "code",
   "execution_count": 1,
   "metadata": {},
   "outputs": [
    {
     "data": {
      "text/plain": [
       "6"
      ]
     },
     "execution_count": 1,
     "metadata": {},
     "output_type": "execute_result"
    }
   ],
   "source": [
    "factorial(3)"
   ]
  },
  {
   "cell_type": "markdown",
   "metadata": {},
   "source": [
    "# 順列"
   ]
  },
  {
   "cell_type": "code",
   "execution_count": 2,
   "metadata": {},
   "outputs": [
    {
     "data": {
      "text/plain": [
       "6-element Array{Array{Int64,1},1}:\n",
       " [1, 2, 3]\n",
       " [1, 3, 2]\n",
       " [2, 1, 3]\n",
       " [2, 3, 1]\n",
       " [3, 1, 2]\n",
       " [3, 2, 1]"
      ]
     },
     "execution_count": 2,
     "metadata": {},
     "output_type": "execute_result"
    }
   ],
   "source": [
    "using Combinatorics\n",
    "seq = (1, 2, 3)\n",
    "collect(permutations(seq))"
   ]
  },
  {
   "cell_type": "code",
   "execution_count": 3,
   "metadata": {},
   "outputs": [
    {
     "data": {
      "text/plain": [
       "6-element Array{Array{Int64,1},1}:\n",
       " [1, 2, 3]\n",
       " [1, 3, 2]\n",
       " [2, 1, 3]\n",
       " [2, 3, 1]\n",
       " [3, 1, 2]\n",
       " [3, 2, 1]"
      ]
     },
     "execution_count": 3,
     "metadata": {},
     "output_type": "execute_result"
    }
   ],
   "source": [
    "collect(permutations([1, 2, 3]))"
   ]
  },
  {
   "cell_type": "markdown",
   "metadata": {},
   "source": [
    "$ {}_5 P _3=5 \\times 4 \\times 3 = 60$"
   ]
  },
  {
   "cell_type": "code",
   "execution_count": 4,
   "metadata": {},
   "outputs": [
    {
     "data": {
      "text/plain": [
       "60"
      ]
     },
     "execution_count": 4,
     "metadata": {},
     "output_type": "execute_result"
    }
   ],
   "source": [
    "binomial(5, 3) * factorial(3)"
   ]
  },
  {
   "cell_type": "code",
   "execution_count": 5,
   "metadata": {},
   "outputs": [
    {
     "data": {
      "text/plain": [
       "60-element Array{Array{Int64,1},1}:\n",
       " [1, 2, 3]\n",
       " [1, 2, 4]\n",
       " [1, 2, 5]\n",
       " [1, 3, 2]\n",
       " [1, 3, 4]\n",
       " [1, 3, 5]\n",
       " [1, 4, 2]\n",
       " [1, 4, 3]\n",
       " [1, 4, 5]\n",
       " [1, 5, 2]\n",
       " [1, 5, 3]\n",
       " [1, 5, 4]\n",
       " [2, 1, 3]\n",
       " ⋮        \n",
       " [5, 1, 2]\n",
       " [5, 1, 3]\n",
       " [5, 1, 4]\n",
       " [5, 2, 1]\n",
       " [5, 2, 3]\n",
       " [5, 2, 4]\n",
       " [5, 3, 1]\n",
       " [5, 3, 2]\n",
       " [5, 3, 4]\n",
       " [5, 4, 1]\n",
       " [5, 4, 2]\n",
       " [5, 4, 3]"
      ]
     },
     "execution_count": 5,
     "metadata": {},
     "output_type": "execute_result"
    }
   ],
   "source": [
    "seq2 = (1, 2, 3, 4, 5)\n",
    "collect(permutations([1, 2, 3, 4, 5], 3))"
   ]
  },
  {
   "cell_type": "markdown",
   "metadata": {},
   "source": [
    "# 組合せ（combination）\n",
    "${}_5 C _3= \\cfrac{{}_5 P_3}{3!} = 10$"
   ]
  },
  {
   "cell_type": "code",
   "execution_count": 6,
   "metadata": {},
   "outputs": [
    {
     "data": {
      "text/plain": [
       "10"
      ]
     },
     "execution_count": 6,
     "metadata": {},
     "output_type": "execute_result"
    }
   ],
   "source": [
    "binomial(5, 3)"
   ]
  },
  {
   "cell_type": "code",
   "execution_count": 7,
   "metadata": {},
   "outputs": [
    {
     "data": {
      "text/plain": [
       "10-element Array{Array{Int64,1},1}:\n",
       " [1, 2, 3]\n",
       " [1, 2, 4]\n",
       " [1, 2, 5]\n",
       " [1, 3, 4]\n",
       " [1, 3, 5]\n",
       " [1, 4, 5]\n",
       " [2, 3, 4]\n",
       " [2, 3, 5]\n",
       " [2, 4, 5]\n",
       " [3, 4, 5]"
      ]
     },
     "execution_count": 7,
     "metadata": {},
     "output_type": "execute_result"
    }
   ],
   "source": [
    "collect(combinations(seq2, 3))"
   ]
  },
  {
   "cell_type": "code",
   "execution_count": null,
   "metadata": {},
   "outputs": [],
   "source": []
  }
 ],
 "metadata": {
  "@webio": {
   "lastCommId": null,
   "lastKernelId": null
  },
  "kernelspec": {
   "display_name": "Julia 1.1.0",
   "language": "julia",
   "name": "julia-1.1"
  },
  "language_info": {
   "file_extension": ".jl",
   "mimetype": "application/julia",
   "name": "julia",
   "version": "1.1.0"
  }
 },
 "nbformat": 4,
 "nbformat_minor": 2
}
