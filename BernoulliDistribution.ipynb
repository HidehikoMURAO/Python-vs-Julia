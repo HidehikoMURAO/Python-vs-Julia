{
 "cells": [
  {
   "cell_type": "code",
   "execution_count": null,
   "metadata": {},
   "outputs": [],
   "source": [
    "using Distributions\n",
    "using Plots\n",
    "gr()\n",
    "\n",
    "μtruth = 0.25\n",
    "dist = Bernoulli(μtruth)\n",
    "println(rand(dist, 10))\n",
    "\n",
    "ϵ = 0.01;\n",
    "# x = linspace(ϵ, 1.0 - ϵ, N); linspaceは廃止となった　\n",
    "# またlinspace(start,stop,length)のlengthがfloatでも特にエラーは出ませんでしたが，\n",
    "# range(start,stop,length)のlengthがIntでないとTypeErrorが出ますので気をつけましょう．\n",
    "# x = range(ϵ, 1.0 - ϵ, N); # linspaceではなくrangeを使う\n",
    "x = range(ϵ, 1.0 - ϵ, N); # linspaceではなくrangeを使う\n",
    "bdist = Beta(0.5, 0.5)\n",
    "y = pdf.(bdist, x)\n",
    "plot(x, y, ylim=(0.0, 7.0))"
   ]
  },
  {
   "cell_type": "code",
   "execution_count": null,
   "metadata": {},
   "outputs": [],
   "source": [
    "nsample = 50;\n",
    "α = 10.\n",
    "β = 5.\n",
    "bdist = Beta(α, β)\n",
    "d1 = (α, β)\n",
    "samples = Int64[]\n",
    "lα = [α]\n",
    "lβ = [β]\n",
    "for i in 1:nsample\n",
    "    ni = rand(dist)\n",
    "    push!(samples, ni)  # サンプル\n",
    "\n",
    "    pos = sum(samples)  # 1の回数\n",
    "    neg = i - pos       # 総数 - 1の回数\n",
    "    push!(lα, α + pos)\n",
    "    push!(lβ, β + neg)\n",
    "end\n",
    "pos = sum(samples)\n",
    "neg = nsample - pos\n",
    "push!(lα, α + pos)\n",
    "push!(lβ, β + neg)\n",
    "println(samples)\n",
    "println(lα, lβ)"
   ]
  },
  {
   "cell_type": "code",
   "execution_count": null,
   "metadata": {},
   "outputs": [],
   "source": [
    "ldist = []\n",
    "indices = [1, 3, 10, 50]\n",
    "for idx in indices\n",
    "    αi = lα[idx]\n",
    "    βi = lβ[idx]\n",
    "    disti = Beta(αi, βi)\n",
    "    push!(ldist, disti)\n",
    "end\n",
    "\n",
    "# beta dist plot\n",
    "plot()\n",
    "for i in 1:4\n",
    "    yi = pdf.(ldist[i], x);\n",
    "    plot!(x, yi, ylim=(0.0, 7.0))\n",
    "end\n",
    "plot!()"
   ]
  },
  {
   "cell_type": "code",
   "execution_count": null,
   "metadata": {},
   "outputs": [],
   "source": []
  }
 ],
 "metadata": {
  "@webio": {
   "lastCommId": null,
   "lastKernelId": null
  },
  "kernelspec": {
   "display_name": "Julia 1.1.0",
   "language": "julia",
   "name": "julia-1.1"
  },
  "language_info": {
   "file_extension": ".jl",
   "mimetype": "application/julia",
   "name": "julia",
   "version": "1.1.0"
  }
 },
 "nbformat": 4,
 "nbformat_minor": 2
}
