{
 "cells": [
  {
   "cell_type": "markdown",
   "metadata": {},
   "source": [
    "# Generate Integer Random Numbers"
   ]
  },
  {
   "cell_type": "markdown",
   "metadata": {},
   "source": [
    "Pythonにおいて，整数の乱数を発生させるプログラムを書く際のメモです．\n",
    "整数の乱数なので，1〜6の目のついたサイコロを振ることを例に考えます．"
   ]
  },
  {
   "cell_type": "markdown",
   "metadata": {},
   "source": [
    "20回サイコロを振る（整数の乱数を発生させる）ことを想定して，乱数を発生させるには，以下のようにします．"
   ]
  },
  {
   "cell_type": "code",
   "execution_count": 1,
   "metadata": {},
   "outputs": [
    {
     "data": {
      "text/plain": [
       "20-element Array{Int64,1}:\n",
       " 6\n",
       " 4\n",
       " 1\n",
       " 3\n",
       " 4\n",
       " 4\n",
       " 6\n",
       " 2\n",
       " 4\n",
       " 1\n",
       " 4\n",
       " 2\n",
       " 5\n",
       " 3\n",
       " 2\n",
       " 3\n",
       " 3\n",
       " 4\n",
       " 4\n",
       " 1"
      ]
     },
     "execution_count": 1,
     "metadata": {},
     "output_type": "execute_result"
    }
   ],
   "source": [
    "rand(1:6, 20) # rand(start:stop, times)"
   ]
  },
  {
   "cell_type": "markdown",
   "metadata": {},
   "source": [
    "上記の例のコメントにもあるように，rand()関数の使い方は以下のようになります．\n",
    "    rand(start:stop, teimes)\n",
    "\n",
    "一方で，非復元抽出を行う場合は，以下のようにします．"
   ]
  },
  {
   "cell_type": "code",
   "execution_count": 2,
   "metadata": {},
   "outputs": [
    {
     "data": {
      "text/plain": [
       "6-element Array{Int64,1}:\n",
       " 1\n",
       " 3\n",
       " 6\n",
       " 2\n",
       " 5\n",
       " 4"
      ]
     },
     "execution_count": 2,
     "metadata": {},
     "output_type": "execute_result"
    }
   ],
   "source": [
    "using StatsBase\n",
    "sample(1:6, 6, replace=false)"
   ]
  },
  {
   "cell_type": "markdown",
   "metadata": {},
   "source": [
    "sample関数を使用するには，StatsBaseパッケージを使用します．\n",
    "sample関数の使い方は以下のようになります．\n",
    "    sample(start:stop, times, replace = \"true\" or \"false\")\n",
    "\n",
    "sample関数を使って，最初のコードと同じことを実現するには以下のようにします．"
   ]
  },
  {
   "cell_type": "code",
   "execution_count": 3,
   "metadata": {},
   "outputs": [
    {
     "data": {
      "text/plain": [
       "20-element Array{Int64,1}:\n",
       " 5\n",
       " 4\n",
       " 3\n",
       " 4\n",
       " 2\n",
       " 5\n",
       " 5\n",
       " 1\n",
       " 2\n",
       " 4\n",
       " 6\n",
       " 3\n",
       " 6\n",
       " 6\n",
       " 1\n",
       " 2\n",
       " 5\n",
       " 5\n",
       " 6\n",
       " 6"
      ]
     },
     "execution_count": 3,
     "metadata": {},
     "output_type": "execute_result"
    }
   ],
   "source": [
    "sample(1:6, 20, replace=true)"
   ]
  },
  {
   "cell_type": "code",
   "execution_count": null,
   "metadata": {},
   "outputs": [],
   "source": []
  }
 ],
 "metadata": {
  "kernelspec": {
   "display_name": "Julia 1.1.1",
   "language": "julia",
   "name": "julia-1.1"
  },
  "language_info": {
   "file_extension": ".jl",
   "mimetype": "application/julia",
   "name": "julia",
   "version": "1.1.1"
  }
 },
 "nbformat": 4,
 "nbformat_minor": 2
}
