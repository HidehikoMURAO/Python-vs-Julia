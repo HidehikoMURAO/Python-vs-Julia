{
 "cells": [
  {
   "cell_type": "markdown",
   "metadata": {},
   "source": [
    "# Generate Integer Random Numbers"
   ]
  },
  {
   "cell_type": "markdown",
   "metadata": {},
   "source": [
    "Pythonにおいて，整数の乱数を発生させるプログラムを書く際のメモです．\n",
    "整数の乱数なので，1〜6の目のついたサイコロを振ることを例に考えます．"
   ]
  },
  {
   "cell_type": "markdown",
   "metadata": {},
   "source": [
    "20回サイコロを振る（整数の乱数を発生させる）ことを想定して，乱数を発生させるには，以下のようにします．"
   ]
  },
  {
   "cell_type": "code",
   "execution_count": 1,
   "metadata": {},
   "outputs": [
    {
     "data": {
      "text/plain": [
       "20-element Array{Int64,1}:\n",
       " 5\n",
       " 5\n",
       " 4\n",
       " 6\n",
       " 6\n",
       " 2\n",
       " 5\n",
       " 3\n",
       " 6\n",
       " 4\n",
       " 2\n",
       " 4\n",
       " 6\n",
       " 6\n",
       " 4\n",
       " 6\n",
       " 1\n",
       " 5\n",
       " 3\n",
       " 6"
      ]
     },
     "execution_count": 1,
     "metadata": {},
     "output_type": "execute_result"
    }
   ],
   "source": [
    "rand(1:6, 20) # rand(start:stop, times)"
   ]
  },
  {
   "cell_type": "markdown",
   "metadata": {},
   "source": [
    "一方で，非復元抽出を行う場合は，以下のようにします．"
   ]
  },
  {
   "cell_type": "code",
   "execution_count": 2,
   "metadata": {},
   "outputs": [
    {
     "data": {
      "text/plain": [
       "6-element Array{Int64,1}:\n",
       " 2\n",
       " 6\n",
       " 4\n",
       " 5\n",
       " 1\n",
       " 3"
      ]
     },
     "execution_count": 2,
     "metadata": {},
     "output_type": "execute_result"
    }
   ],
   "source": [
    "using StatsBase\n",
    "sample(1:6, 6, replace=false)"
   ]
  },
  {
   "cell_type": "code",
   "execution_count": null,
   "metadata": {},
   "outputs": [],
   "source": []
  }
 ],
 "metadata": {
  "kernelspec": {
   "display_name": "Julia 1.1.0",
   "language": "julia",
   "name": "julia-1.1"
  },
  "language_info": {
   "file_extension": ".jl",
   "mimetype": "application/julia",
   "name": "julia",
   "version": "1.1.0"
  }
 },
 "nbformat": 4,
 "nbformat_minor": 2
}
